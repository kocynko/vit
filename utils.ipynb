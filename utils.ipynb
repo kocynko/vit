{
 "cells": [
  {
   "cell_type": "code",
   "execution_count": null,
   "id": "initial_id",
   "metadata": {
    "collapsed": true
   },
   "outputs": [],
   "source": []
  },
  {
   "cell_type": "code",
   "execution_count": 3,
   "outputs": [],
   "source": [
    "# Python script to create train/test/valid\n",
    "import os\n",
    "import shutil\n",
    "import random\n",
    "original_folder = \"/Users/matuskocian/PycharmProjects/vit/data/Training Images/Dry\"\n",
    "\n",
    "# Define paths for the train, test, and validation sets\n",
    "train_folder = \"dataset/train/Dry\"\n",
    "test_folder = \"dataset/test/Dry\"\n",
    "valid_folder = \"dataset/valid/Dry\"\n",
    "\n",
    "# Define the split ratios\n",
    "train_ratio = 0.8\n",
    "test_ratio = 0.2  \n",
    "\n",
    "# Create directories if they don't exist\n",
    "for folder in [train_folder, test_folder]:\n",
    "    os.makedirs(folder, exist_ok=True)\n",
    "\n",
    "# Get the list of images\n",
    "images = os.listdir(original_folder)\n",
    "random.shuffle(images)\n",
    "\n",
    "# Calculate the number of images for each set\n",
    "num_images = len(images)\n",
    "num_train = int(train_ratio * num_images)\n",
    "num_test = int(test_ratio * num_images)\n",
    "num_valid = num_images - num_train - num_test\n",
    "\n",
    "# Copy images to the respective folders\n",
    "for i, image in enumerate(images):\n",
    "    src_path = os.path.join(original_folder, image)\n",
    "    if i < num_train:\n",
    "        dst_path = os.path.join(train_folder, image)\n",
    "    else:\n",
    "        dst_path = os.path.join(test_folder, image)\n",
    "    shutil.copy(src_path, dst_path)"
   ],
   "metadata": {
    "collapsed": false,
    "ExecuteTime": {
     "end_time": "2024-03-21T20:12:18.410308Z",
     "start_time": "2024-03-21T20:12:17.988339Z"
    }
   },
   "id": "f95ba6bb565b74f"
  },
  {
   "cell_type": "code",
   "execution_count": null,
   "outputs": [],
   "source": [],
   "metadata": {
    "collapsed": false
   },
   "id": "14fc6e7d874f6140"
  }
 ],
 "metadata": {
  "kernelspec": {
   "display_name": "Python 3",
   "language": "python",
   "name": "python3"
  },
  "language_info": {
   "codemirror_mode": {
    "name": "ipython",
    "version": 2
   },
   "file_extension": ".py",
   "mimetype": "text/x-python",
   "name": "python",
   "nbconvert_exporter": "python",
   "pygments_lexer": "ipython2",
   "version": "2.7.6"
  }
 },
 "nbformat": 4,
 "nbformat_minor": 5
}
