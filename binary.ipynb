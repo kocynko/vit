{
 "cells": [
  {
   "cell_type": "code",
   "execution_count": 2,
   "id": "initial_id",
   "metadata": {
    "collapsed": true,
    "ExecuteTime": {
     "end_time": "2024-03-23T13:07:37.158151Z",
     "start_time": "2024-03-23T13:07:32.369857Z"
    }
   },
   "outputs": [
    {
     "name": "stderr",
     "output_type": "stream",
     "text": [
      "C:\\Users\\Admin\\Documents\\xkocian\\VisionTrasnformer\\venv\\lib\\site-packages\\tensorflow_addons\\utils\\tfa_eol_msg.py:23: UserWarning: \n",
      "\n",
      "TensorFlow Addons (TFA) has ended development and introduction of new features.\n",
      "TFA has entered a minimal maintenance and release mode until a planned end of life in May 2024.\n",
      "Please modify downstream libraries to take dependencies from other repositories in our TensorFlow community (e.g. Keras, Keras-CV, and Keras-NLP). \n",
      "\n",
      "For more information see: https://github.com/tensorflow/addons/issues/2807 \n",
      "\n",
      "  warnings.warn(\n",
      "C:\\Users\\Admin\\Documents\\xkocian\\VisionTrasnformer\\venv\\lib\\site-packages\\tensorflow_addons\\utils\\ensure_tf_install.py:53: UserWarning: Tensorflow Addons supports using Python ops for all Tensorflow versions above or equal to 2.11.0 and strictly below 2.14.0 (nightly versions are not supported). \n",
      " The versions of TensorFlow you are currently using is 2.10.0 and is not supported. \n",
      "Some things might work, some things might not.\n",
      "If you were to encounter a bug, do not file an issue.\n",
      "If you want to make sure you're using a tested and supported configuration, either change the TensorFlow version or the TensorFlow Addons's version. \n",
      "You can find the compatibility matrix in TensorFlow Addon's readme:\n",
      "https://github.com/tensorflow/addons\n",
      "  warnings.warn(\n"
     ]
    },
    {
     "name": "stdout",
     "output_type": "stream",
     "text": [
      "TensorFlow Version 2.10.0\n"
     ]
    }
   ],
   "source": [
    "\n",
    "from textwrap import wrap\n",
    "import shutil\n",
    "\n",
    "import keras.utils.image_dataset\n",
    "import pandas as pd\n",
    "import tensorflow as tf\n",
    "import tensorflow.keras.layers as L\n",
    "import tensorflow_addons as tfa\n",
    "import os, warnings\n",
    "import matplotlib.pyplot as plt\n",
    "from imblearn.over_sampling import SMOTE\n",
    "import numpy as np\n",
    "import random\n",
    "\n",
    "print('TensorFlow Version ' + tf.__version__)\n",
    "\n",
    "\n",
    "def seed_everything(seed=0):\n",
    "    random.seed(seed)\n",
    "    np.random.seed(seed)\n",
    "    tf.random.set_seed(seed)\n",
    "    os.environ['PYTHONHASHSEED'] = str(seed)\n",
    "    os.environ['TF_DETERMINISTIC_OPS'] = '1'\n",
    "\n",
    "\n",
    "seed_everything()\n",
    "\n",
    "import warnings\n",
    "\n",
    "warnings.filterwarnings(\"ignore\")"
   ]
  },
  {
   "cell_type": "code",
   "outputs": [],
   "source": [
    "image_size = 384\n",
    "batch_size = 16\n",
    "EPOCHS = 40\n",
    "\n",
    "train_path = 'binary-dataset/train'\n",
    "valid_path = 'binary-dataset/valid'\n",
    "test_path = 'binary-dataset/test'\n"
   ],
   "metadata": {
    "collapsed": false,
    "ExecuteTime": {
     "end_time": "2024-03-23T13:07:37.174079Z",
     "start_time": "2024-03-23T13:07:37.159119Z"
    }
   },
   "id": "a088e02444169cf0",
   "execution_count": 3
  },
  {
   "cell_type": "code",
   "outputs": [
    {
     "name": "stdout",
     "output_type": "stream",
     "text": [
      "Found 3148 images belonging to 2 classes.\n",
      "Found 200 images belonging to 2 classes.\n",
      "Found 713 images belonging to 2 classes.\n"
     ]
    }
   ],
   "source": [
    "train_datagen = tf.keras.preprocessing.image.ImageDataGenerator(rescale=1. / 255,\n",
    "                                                                samplewise_center=True,\n",
    "                                                                samplewise_std_normalization=True,\n",
    "                                                                dtype='float16')\n",
    "\n",
    "test_datagen = tf.keras.preprocessing.image.ImageDataGenerator(rescale=1. / 255,\n",
    "                                                               samplewise_center=True,\n",
    "                                                               samplewise_std_normalization=True,\n",
    "                                                               dtype='float16')\n",
    "\n",
    "valid_datagen = tf.keras.preprocessing.image.ImageDataGenerator(rescale=1. / 255,\n",
    "                                                                samplewise_center=True,\n",
    "                                                                samplewise_std_normalization=True,\n",
    "                                                                dtype='float16')\n",
    "\n",
    "train_gen = train_datagen.flow_from_directory(\n",
    "    train_path,\n",
    "    target_size=(image_size, image_size),\n",
    "    batch_size=batch_size,\n",
    "    seed=1,\n",
    "    shuffle=True,\n",
    "    class_mode='binary',\n",
    "    subset='training')\n",
    "\n",
    "# same directory as training data\n",
    "\n",
    "valid_gen = valid_datagen.flow_from_directory(\n",
    "    valid_path,\n",
    "    target_size=(image_size, image_size),\n",
    "    batch_size=batch_size,\n",
    "    seed=1,\n",
    "    shuffle=False,\n",
    "    class_mode='binary',\n",
    ")\n",
    "\n",
    "test_gen = test_datagen.flow_from_directory(\n",
    "    test_path,\n",
    "    target_size=(image_size, image_size),\n",
    "    batch_size=batch_size,\n",
    "    seed=1,\n",
    "    shuffle=False,\n",
    "    class_mode='binary',\n",
    ")\n",
    "class_indices_mapping = train_gen.class_indices"
   ],
   "metadata": {
    "collapsed": false,
    "ExecuteTime": {
     "end_time": "2024-03-23T13:07:37.333260Z",
     "start_time": "2024-03-23T13:07:37.175076Z"
    }
   },
   "id": "9051018258596960",
   "execution_count": 4
  },
  {
   "cell_type": "code",
   "outputs": [],
   "source": [
    "from sklearn.utils import class_weight\n",
    "\n",
    "train_labels = []\n",
    "# Iterate through each batch in the generator\n",
    "for i in range(len(train_gen)):\n",
    "    _, labels = train_gen[i]  # Get images and labels for the current batch\n",
    "    train_labels.extend(labels)\n",
    "\n",
    "# Compute class weights\n",
    "class_weights = class_weight.compute_class_weight('balanced', classes=np.unique(train_labels), y=train_labels)\n",
    "class_weights_dict = dict(enumerate(class_weights))"
   ],
   "metadata": {
    "collapsed": false,
    "ExecuteTime": {
     "end_time": "2024-03-23T13:07:51.877412Z",
     "start_time": "2024-03-23T13:07:37.334260Z"
    }
   },
   "id": "df2b56dbf5bac107",
   "execution_count": 5
  },
  {
   "cell_type": "code",
   "outputs": [
    {
     "data": {
      "text/plain": "{0: 2.3669172932330826, 1: 0.6339105920257753}"
     },
     "execution_count": 6,
     "metadata": {},
     "output_type": "execute_result"
    }
   ],
   "source": [
    "class_weights_dict"
   ],
   "metadata": {
    "collapsed": false,
    "ExecuteTime": {
     "end_time": "2024-03-23T13:07:51.892541Z",
     "start_time": "2024-03-23T13:07:51.878401Z"
    }
   },
   "id": "e230258e43dc3d8f",
   "execution_count": 6
  },
  {
   "cell_type": "code",
   "outputs": [],
   "source": [
    "class Patches(L.Layer):\n",
    "    def __init__(self, patch_size):\n",
    "        super(Patches, self).__init__()\n",
    "        self.patch_size = patch_size\n",
    "\n",
    "    def call(self, images):\n",
    "        batch_size = tf.shape(images)[0]\n",
    "        patches = tf.image.extract_patches(\n",
    "            images=images,\n",
    "            sizes=[1, self.patch_size, self.patch_size, 1],\n",
    "            strides=[1, self.patch_size, self.patch_size, 1],\n",
    "            rates=[1, 1, 1, 1],\n",
    "            padding='VALID',\n",
    "        )\n",
    "        patch_dims = patches.shape[-1]\n",
    "        patches = tf.reshape(patches, [batch_size, -1, patch_dims])\n",
    "        return patches"
   ],
   "metadata": {
    "collapsed": false,
    "ExecuteTime": {
     "end_time": "2024-03-23T13:07:51.908463Z",
     "start_time": "2024-03-23T13:07:51.893504Z"
    }
   },
   "id": "93b70043556bea5d",
   "execution_count": 7
  },
  {
   "cell_type": "code",
   "outputs": [],
   "source": [
    "from vit_keras import vit\n",
    "\n",
    "vit_model = vit.vit_b16(\n",
    "    image_size=image_size,\n",
    "    activation='sigmoid',\n",
    "    pretrained=True,\n",
    "    include_top=True,\n",
    "    pretrained_top=False,\n",
    "    classes=200\n",
    ")"
   ],
   "metadata": {
    "collapsed": false,
    "ExecuteTime": {
     "end_time": "2024-03-23T13:07:55.483308Z",
     "start_time": "2024-03-23T13:07:51.910458Z"
    }
   },
   "id": "50ecd168ee56a840",
   "execution_count": 8
  },
  {
   "cell_type": "code",
   "outputs": [
    {
     "name": "stdout",
     "output_type": "stream",
     "text": [
      "Model: \"vision_transformer\"\n",
      "_________________________________________________________________\n",
      " Layer (type)                Output Shape              Param #   \n",
      "=================================================================\n",
      " vit-b16 (Functional)        (None, 200)               86244296  \n",
      "                                                                 \n",
      " flatten_1 (Flatten)         (None, 200)               0         \n",
      "                                                                 \n",
      " batch_normalization_1 (Batc  (None, 200)              800       \n",
      " hNormalization)                                                 \n",
      "                                                                 \n",
      " dense_2 (Dense)             (None, 64)                12864     \n",
      "                                                                 \n",
      " batch_normalization_2 (Batc  (None, 64)               256       \n",
      " hNormalization)                                                 \n",
      "                                                                 \n",
      " dense_3 (Dense)             (None, 32)                2080      \n",
      "                                                                 \n",
      " dense_4 (Dense)             (None, 1)                 33        \n",
      "                                                                 \n",
      "=================================================================\n",
      "Total params: 86,260,329\n",
      "Trainable params: 86,259,801\n",
      "Non-trainable params: 528\n",
      "_________________________________________________________________\n"
     ]
    }
   ],
   "source": [
    "model = tf.keras.Sequential([\n",
    "    vit_model,\n",
    "    tf.keras.layers.Flatten(),\n",
    "    tf.keras.layers.BatchNormalization(),\n",
    "    tf.keras.layers.Dense(64, activation=tf.keras.activations.gelu),\n",
    "    tf.keras.layers.BatchNormalization(),\n",
    "    tf.keras.layers.Dense(32, activation=tf.keras.activations.gelu),\n",
    "    tf.keras.layers.Dense(1, 'sigmoid')\n",
    "],\n",
    "    name='vision_transformer')\n",
    "\n",
    "model.summary()"
   ],
   "metadata": {
    "collapsed": false,
    "ExecuteTime": {
     "end_time": "2024-03-23T13:08:13.927930Z",
     "start_time": "2024-03-23T13:08:12.684257Z"
    }
   },
   "id": "28d7f6285402e3bc",
   "execution_count": 10
  },
  {
   "cell_type": "code",
   "outputs": [
    {
     "name": "stdout",
     "output_type": "stream",
     "text": [
      "WARNING:tensorflow:`period` argument is deprecated. Please use `save_freq` to specify the frequency in number of batches seen.\n",
      "Epoch 1/50\n",
      "196/196 [==============================] - 136s 616ms/step - loss: 0.4702 - accuracy: 0.7727 - val_loss: 0.4150 - val_accuracy: 0.9635\n",
      "Epoch 2/50\n",
      "196/196 [==============================] - 119s 606ms/step - loss: 0.3002 - accuracy: 0.8892 - val_loss: 0.1606 - val_accuracy: 0.9792\n",
      "Epoch 3/50\n",
      "196/196 [==============================] - 119s 608ms/step - loss: 0.2263 - accuracy: 0.9218 - val_loss: 0.1277 - val_accuracy: 0.9688\n",
      "Epoch 4/50\n",
      "196/196 [==============================] - 119s 607ms/step - loss: 0.1838 - accuracy: 0.9457 - val_loss: 0.1019 - val_accuracy: 0.9688\n",
      "Epoch 5/50\n",
      "196/196 [==============================] - 119s 608ms/step - loss: 0.1580 - accuracy: 0.9492 - val_loss: 0.0588 - val_accuracy: 0.9844\n",
      "Epoch 6/50\n",
      "196/196 [==============================] - 119s 606ms/step - loss: 0.1342 - accuracy: 0.9684 - val_loss: 0.0722 - val_accuracy: 0.9792\n",
      "Epoch 7/50\n",
      "196/196 [==============================] - 119s 607ms/step - loss: 0.1149 - accuracy: 0.9681 - val_loss: 0.0520 - val_accuracy: 0.9844\n",
      "Epoch 8/50\n",
      "196/196 [==============================] - 119s 606ms/step - loss: 0.0932 - accuracy: 0.9764 - val_loss: 0.0624 - val_accuracy: 0.9792\n",
      "Epoch 9/50\n",
      "196/196 [==============================] - 119s 606ms/step - loss: 0.0765 - accuracy: 0.9853 - val_loss: 0.0583 - val_accuracy: 0.9740\n",
      "Epoch 10/50\n",
      "196/196 [==============================] - 119s 606ms/step - loss: 0.0697 - accuracy: 0.9844 - val_loss: 0.0550 - val_accuracy: 0.9844\n",
      "Epoch 11/50\n",
      "196/196 [==============================] - 119s 608ms/step - loss: 0.0670 - accuracy: 0.9828 - val_loss: 0.0512 - val_accuracy: 0.9844\n",
      "Epoch 12/50\n",
      "196/196 [==============================] - 119s 605ms/step - loss: 0.0520 - accuracy: 0.9901 - val_loss: 0.0881 - val_accuracy: 0.9792\n",
      "Epoch 13/50\n",
      "196/196 [==============================] - 119s 605ms/step - loss: 0.0447 - accuracy: 0.9927 - val_loss: 0.0459 - val_accuracy: 0.9844\n",
      "Epoch 14/50\n",
      "196/196 [==============================] - 119s 607ms/step - loss: 0.0466 - accuracy: 0.9923 - val_loss: 0.0307 - val_accuracy: 0.9948\n",
      "Epoch 15/50\n",
      "196/196 [==============================] - 118s 604ms/step - loss: 0.0318 - accuracy: 0.9968 - val_loss: 0.0465 - val_accuracy: 0.9948\n",
      "Epoch 16/50\n",
      "196/196 [==============================] - 118s 604ms/step - loss: 0.0302 - accuracy: 0.9965 - val_loss: 0.0611 - val_accuracy: 0.9844\n",
      "Epoch 17/50\n",
      "196/196 [==============================] - 118s 604ms/step - loss: 0.0495 - accuracy: 0.9888 - val_loss: 0.0778 - val_accuracy: 0.9635\n",
      "Epoch 18/50\n",
      "196/196 [==============================] - 119s 605ms/step - loss: 0.0360 - accuracy: 0.9939 - val_loss: 0.0391 - val_accuracy: 0.9896\n",
      "Epoch 19/50\n",
      "196/196 [==============================] - 118s 603ms/step - loss: 0.0311 - accuracy: 0.9936 - val_loss: 0.0406 - val_accuracy: 0.9792\n",
      "Epoch 20/50\n",
      "196/196 [==============================] - 118s 604ms/step - loss: 0.0338 - accuracy: 0.9949 - val_loss: 0.0427 - val_accuracy: 0.9948\n",
      "Epoch 21/50\n",
      "196/196 [==============================] - 118s 604ms/step - loss: 0.0210 - accuracy: 0.9981 - val_loss: 0.0483 - val_accuracy: 0.9896\n",
      "Epoch 22/50\n",
      "196/196 [==============================] - 118s 604ms/step - loss: 0.0162 - accuracy: 0.9990 - val_loss: 0.0413 - val_accuracy: 0.9948\n",
      "Epoch 23/50\n",
      "196/196 [==============================] - 118s 603ms/step - loss: 0.0130 - accuracy: 1.0000 - val_loss: 0.0428 - val_accuracy: 0.9948\n",
      "Epoch 24/50\n",
      "196/196 [==============================] - 118s 603ms/step - loss: 0.0126 - accuracy: 0.9997 - val_loss: 0.0365 - val_accuracy: 0.9948\n",
      "Epoch 25/50\n",
      "196/196 [==============================] - 118s 603ms/step - loss: 0.0564 - accuracy: 0.9824 - val_loss: 0.0619 - val_accuracy: 0.9688\n",
      "Epoch 26/50\n",
      "196/196 [==============================] - 118s 604ms/step - loss: 0.0294 - accuracy: 0.9933 - val_loss: 0.0620 - val_accuracy: 0.9792\n",
      "Epoch 27/50\n",
      "196/196 [==============================] - 118s 603ms/step - loss: 0.0124 - accuracy: 0.9997 - val_loss: 0.0443 - val_accuracy: 0.9896\n",
      "Epoch 28/50\n",
      "196/196 [==============================] - 118s 604ms/step - loss: 0.0225 - accuracy: 0.9943 - val_loss: 0.1055 - val_accuracy: 0.9427\n",
      "Epoch 29/50\n",
      "196/196 [==============================] - 118s 603ms/step - loss: 0.0205 - accuracy: 0.9958 - val_loss: 0.1189 - val_accuracy: 0.9531\n",
      "Epoch 30/50\n",
      "196/196 [==============================] - 119s 606ms/step - loss: 0.0176 - accuracy: 0.9965 - val_loss: 0.0268 - val_accuracy: 0.9896\n",
      "Epoch 31/50\n",
      "196/196 [==============================] - 118s 604ms/step - loss: 0.0109 - accuracy: 0.9990 - val_loss: 0.0451 - val_accuracy: 0.9896\n",
      "Epoch 32/50\n",
      "196/196 [==============================] - 119s 605ms/step - loss: 0.0089 - accuracy: 0.9997 - val_loss: 0.0429 - val_accuracy: 0.9844\n",
      "Epoch 33/50\n",
      "196/196 [==============================] - 118s 604ms/step - loss: 0.0107 - accuracy: 0.9984 - val_loss: 0.0938 - val_accuracy: 0.9635\n",
      "Epoch 34/50\n",
      "196/196 [==============================] - 119s 606ms/step - loss: 0.0101 - accuracy: 0.9987 - val_loss: 0.0363 - val_accuracy: 0.9948\n",
      "Epoch 35/50\n",
      "196/196 [==============================] - 118s 604ms/step - loss: 0.0071 - accuracy: 1.0000 - val_loss: 0.0383 - val_accuracy: 0.9948\n",
      "Epoch 36/50\n",
      "196/196 [==============================] - 119s 605ms/step - loss: 0.0060 - accuracy: 1.0000 - val_loss: 0.0319 - val_accuracy: 0.9948\n",
      "Epoch 37/50\n",
      "196/196 [==============================] - 118s 604ms/step - loss: 0.0090 - accuracy: 0.9990 - val_loss: 0.1199 - val_accuracy: 0.9740\n",
      "Epoch 38/50\n",
      "196/196 [==============================] - 118s 603ms/step - loss: 0.0181 - accuracy: 0.9949 - val_loss: 0.1676 - val_accuracy: 0.9479\n",
      "Epoch 39/50\n",
      "196/196 [==============================] - 118s 603ms/step - loss: 0.0182 - accuracy: 0.9965 - val_loss: 0.1248 - val_accuracy: 0.9635\n",
      "Epoch 40/50\n",
      "196/196 [==============================] - 118s 603ms/step - loss: 0.0069 - accuracy: 0.9990 - val_loss: 0.1655 - val_accuracy: 0.9531\n",
      "Epoch 41/50\n",
      "196/196 [==============================] - 118s 603ms/step - loss: 0.0050 - accuracy: 1.0000 - val_loss: 0.0944 - val_accuracy: 0.9688\n",
      "Epoch 42/50\n",
      "196/196 [==============================] - 116s 593ms/step - loss: 0.0042 - accuracy: 1.0000 - val_loss: 0.0932 - val_accuracy: 0.9688\n",
      "Epoch 43/50\n",
      "196/196 [==============================] - 116s 589ms/step - loss: 0.0037 - accuracy: 1.0000 - val_loss: 0.0938 - val_accuracy: 0.9688\n",
      "Epoch 44/50\n",
      "196/196 [==============================] - 116s 591ms/step - loss: 0.0043 - accuracy: 0.9997 - val_loss: 0.0900 - val_accuracy: 0.9740\n",
      "Epoch 45/50\n",
      "196/196 [==============================] - 116s 591ms/step - loss: 0.0286 - accuracy: 0.9943 - val_loss: 0.2960 - val_accuracy: 0.9323\n",
      "Epoch 46/50\n",
      "196/196 [==============================] - 116s 591ms/step - loss: 0.0207 - accuracy: 0.9955 - val_loss: 0.2102 - val_accuracy: 0.9427\n",
      "Epoch 47/50\n",
      "196/196 [==============================] - 116s 591ms/step - loss: 0.0066 - accuracy: 0.9990 - val_loss: 0.0871 - val_accuracy: 0.9792\n",
      "Epoch 48/50\n",
      "196/196 [==============================] - 116s 591ms/step - loss: 0.0044 - accuracy: 1.0000 - val_loss: 0.0860 - val_accuracy: 0.9792\n",
      "Epoch 49/50\n",
      "196/196 [==============================] - 116s 592ms/step - loss: 0.0038 - accuracy: 1.0000 - val_loss: 0.0844 - val_accuracy: 0.9792\n",
      "Epoch 50/50\n",
      "196/196 [==============================] - ETA: 0s - loss: 0.0030 - accuracy: 1.0000Restoring model weights from the end of the best epoch: 30.\n",
      "196/196 [==============================] - 116s 592ms/step - loss: 0.0030 - accuracy: 1.0000 - val_loss: 0.0997 - val_accuracy: 0.9792\n",
      "Epoch 50: early stopping\n"
     ]
    }
   ],
   "source": [
    "warnings.filterwarnings(\"ignore\")\n",
    "\n",
    "learning_rate = 1e-5\n",
    "\n",
    "optimizer = tf.keras.optimizers.Adam(learning_rate=learning_rate)\n",
    "\n",
    "model.compile(optimizer=optimizer,\n",
    "              loss=tf.keras.losses.BinaryCrossentropy(),\n",
    "              metrics=['accuracy'])\n",
    "\n",
    "STEP_SIZE_TRAIN = train_gen.n // train_gen.batch_size\n",
    "STEP_SIZE_VALID = valid_gen.n // valid_gen.batch_size\n",
    "\n",
    "early_stopping_callbacks = tf.keras.callbacks.EarlyStopping(patience=20, restore_best_weights=True, verbose=1)\n",
    "filepath = \"checkpoints/no-smoted-saved-model-{epoch:02d}.h5\"\n",
    "model_checkpoint_callback = tf.keras.callbacks.ModelCheckpoint(filepath, monitor='val_loss', verbose=0,\n",
    "                                                               save_best_only=False, save_weights_only=False,\n",
    "                                                               mode='auto', period=1)\n",
    "\n",
    "History = model.fit(x=train_gen,\n",
    "                    steps_per_epoch=STEP_SIZE_TRAIN,\n",
    "                    validation_data=valid_gen,\n",
    "                    validation_steps=STEP_SIZE_VALID,\n",
    "                    epochs=50,\n",
    "                    callbacks=[early_stopping_callbacks, model_checkpoint_callback],\n",
    "                    class_weight=class_weights_dict)\n",
    "\n",
    "model.save(\"models/binary-model.h5\")"
   ],
   "metadata": {
    "collapsed": false,
    "ExecuteTime": {
     "end_time": "2024-03-23T14:46:59.635028Z",
     "start_time": "2024-03-23T13:08:17.935612Z"
    }
   },
   "id": "62f147957ee6dda0",
   "execution_count": 11
  },
  {
   "cell_type": "code",
   "outputs": [
    {
     "data": {
      "text/plain": "<Figure size 640x480 with 1 Axes>",
      "image/png": "[encoded data removed]"
     },
     "metadata": {},
     "output_type": "display_data"
    },
    {
     "data": {
      "text/plain": "<Figure size 640x480 with 1 Axes>",
      "image/png": "[encoded data removed]"
     },
     "metadata": {},
     "output_type": "display_data"
    }
   ],
   "source": [
    "def plot_history(item):\n",
    "    plt.plot(History.history[item], label=item)\n",
    "    plt.plot(History.history[\"val_\" + item], label=\"val_\" + item)\n",
    "    plt.xlabel(\"Epochs\")\n",
    "    plt.ylabel(item)\n",
    "    plt.title(\"Train and Validation {} Over Epochs\".format(item), fontsize=14)\n",
    "    plt.legend()\n",
    "    plt.grid()\n",
    "    plt.show()\n",
    "\n",
    "\n",
    "plot_history(\"loss\")\n",
    "plot_history(\"accuracy\")"
   ],
   "metadata": {
    "collapsed": false,
    "ExecuteTime": {
     "end_time": "2024-03-23T14:56:04.157302Z",
     "start_time": "2024-03-23T14:56:03.762358Z"
    }
   },
   "id": "58a3306b6d44fe4a",
   "execution_count": 12
  },
  {
   "cell_type": "code",
   "outputs": [
    {
     "name": "stdout",
     "output_type": "stream",
     "text": [
      "45/45 [==============================] - 12s 260ms/step\n",
      "              precision    recall  f1-score   support\n",
      "\n",
      "           0       0.92      0.92      0.92       192\n",
      "           1       0.97      0.97      0.97       521\n",
      "\n",
      "    accuracy                           0.96       713\n",
      "   macro avg       0.95      0.94      0.94       713\n",
      "weighted avg       0.96      0.96      0.96       713\n"
     ]
    },
    {
     "data": {
      "text/plain": "<Figure size 1000x1000 with 2 Axes>",
      "image/png": "[encoded data removed]"
     },
     "metadata": {},
     "output_type": "display_data"
    }
   ],
   "source": [
    "from sklearn.metrics import confusion_matrix, classification_report\n",
    "import seaborn as sns\n",
    "predictions = model.predict_generator(test_gen,steps= test_gen.n // test_gen.batch_size + 1, verbose=1)\n",
    "predicted_classes = (predictions > 0.5).astype(int)\n",
    "true_classes = test_gen.classes\n",
    "class_labels = list(test_gen.class_indices.keys())\n",
    "confusionmatrix = confusion_matrix(true_classes, predicted_classes)\n",
    "plt.figure(figsize=(10, 10))\n",
    "sns.heatmap(confusionmatrix, cmap='Blues', annot=True, cbar=True, fmt='g', xticklabels=class_labels,\n",
    "            yticklabels=class_labels)\n",
    "\n",
    "print(classification_report(true_classes, predicted_classes))"
   ],
   "metadata": {
    "collapsed": false,
    "ExecuteTime": {
     "end_time": "2024-03-23T15:05:46.024105Z",
     "start_time": "2024-03-23T15:05:33.465089Z"
    }
   },
   "id": "8ad6e868ec234056",
   "execution_count": 23
  },
  {
   "cell_type": "code",
   "outputs": [
    {
     "name": "stdout",
     "output_type": "stream",
     "text": [
      "Misclassified Images:\n",
      "Filename: binary-dataset/test\\Disease\\152_right.jpg\n",
      "Predicted Class: Normal\n",
      "True Class: Disease\n",
      "\n",
      "Filename: binary-dataset/test\\Disease\\168_right.jpg\n",
      "Predicted Class: Normal\n",
      "True Class: Disease\n",
      "\n",
      "Filename: binary-dataset/test\\Disease\\1854_left.jpg\n",
      "Predicted Class: Normal\n",
      "True Class: Disease\n",
      "\n",
      "Filename: binary-dataset/test\\Disease\\1857_right.jpg\n",
      "Predicted Class: Normal\n",
      "True Class: Disease\n",
      "\n",
      "Filename: binary-dataset/test\\Disease\\1874_right.jpg\n",
      "Predicted Class: Normal\n",
      "True Class: Disease\n",
      "\n",
      "Filename: binary-dataset/test\\Disease\\1878_right.jpg\n",
      "Predicted Class: Normal\n",
      "True Class: Disease\n",
      "\n",
      "Filename: binary-dataset/test\\Disease\\410_right.jpg\n",
      "Predicted Class: Normal\n",
      "True Class: Disease\n",
      "\n",
      "Filename: binary-dataset/test\\Disease\\424_right.jpg\n",
      "Predicted Class: Normal\n",
      "True Class: Disease\n",
      "\n",
      "Filename: binary-dataset/test\\Disease\\532_left.jpg\n",
      "Predicted Class: Normal\n",
      "True Class: Disease\n",
      "\n",
      "Filename: binary-dataset/test\\Disease\\608_left.jpg\n",
      "Predicted Class: Normal\n",
      "True Class: Disease\n",
      "\n",
      "Filename: binary-dataset/test\\Disease\\681_left.jpg\n",
      "Predicted Class: Normal\n",
      "True Class: Disease\n",
      "\n",
      "Filename: binary-dataset/test\\Disease\\681_right.jpg\n",
      "Predicted Class: Normal\n",
      "True Class: Disease\n",
      "\n",
      "Filename: binary-dataset/test\\Disease\\788_right.jpg\n",
      "Predicted Class: Normal\n",
      "True Class: Disease\n",
      "\n",
      "Filename: binary-dataset/test\\Disease\\888_left.jpg\n",
      "Predicted Class: Normal\n",
      "True Class: Disease\n",
      "\n",
      "Filename: binary-dataset/test\\Disease\\927_right.jpg\n",
      "Predicted Class: Normal\n",
      "True Class: Disease\n",
      "\n",
      "Filename: binary-dataset/test\\Disease\\998_left.jpg\n",
      "Predicted Class: Normal\n",
      "True Class: Disease\n",
      "\n",
      "Filename: binary-dataset/test\\Normal\\1117_left.jpg\n",
      "Predicted Class: Disease\n",
      "True Class: Normal\n",
      "\n",
      "Filename: binary-dataset/test\\Normal\\1611_right.jpg\n",
      "Predicted Class: Disease\n",
      "True Class: Normal\n",
      "\n",
      "Filename: binary-dataset/test\\Normal\\2125_right.jpg\n",
      "Predicted Class: Disease\n",
      "True Class: Normal\n",
      "\n",
      "Filename: binary-dataset/test\\Normal\\2562_right.jpg\n",
      "Predicted Class: Disease\n",
      "True Class: Normal\n",
      "\n",
      "Filename: binary-dataset/test\\Normal\\2664_right.jpg\n",
      "Predicted Class: Disease\n",
      "True Class: Normal\n",
      "\n",
      "Filename: binary-dataset/test\\Normal\\2691_left.jpg\n",
      "Predicted Class: Disease\n",
      "True Class: Normal\n",
      "\n",
      "Filename: binary-dataset/test\\Normal\\2713_left.jpg\n",
      "Predicted Class: Disease\n",
      "True Class: Normal\n",
      "\n",
      "Filename: binary-dataset/test\\Normal\\2812_left.jpg\n",
      "Predicted Class: Disease\n",
      "True Class: Normal\n",
      "\n",
      "Filename: binary-dataset/test\\Normal\\2825_left.jpg\n",
      "Predicted Class: Disease\n",
      "True Class: Normal\n",
      "\n",
      "Filename: binary-dataset/test\\Normal\\2845_left.jpg\n",
      "Predicted Class: Disease\n",
      "True Class: Normal\n",
      "\n",
      "Filename: binary-dataset/test\\Normal\\3002_left.jpg\n",
      "Predicted Class: Disease\n",
      "True Class: Normal\n",
      "\n",
      "Filename: binary-dataset/test\\Normal\\3008_left.jpg\n",
      "Predicted Class: Disease\n",
      "True Class: Normal\n",
      "\n",
      "Filename: binary-dataset/test\\Normal\\3036_right.jpg\n",
      "Predicted Class: Disease\n",
      "True Class: Normal\n",
      "\n",
      "Filename: binary-dataset/test\\Normal\\3090_right.jpg\n",
      "Predicted Class: Disease\n",
      "True Class: Normal\n",
      "\n",
      "Filename: binary-dataset/test\\Normal\\3095_right.jpg\n",
      "Predicted Class: Disease\n",
      "True Class: Normal\n"
     ]
    }
   ],
   "source": [
    "import os\n",
    "\n",
    "# Get the class names from the class indices mapping\n",
    "class_names = list(class_indices_mapping.keys())\n",
    "\n",
    "# Get the filenames of the test images\n",
    "test_filenames = test_gen.filenames\n",
    "\n",
    "# Get the true labels of the test images\n",
    "true_labels = test_gen.classes\n",
    "\n",
    "# Initialize lists to store misclassified filenames, predicted labels, and true labels\n",
    "misclassified_filenames = []\n",
    "misclassified_predicted_labels = []\n",
    "misclassified_true_labels = []\n",
    "\n",
    "# Iterate through each test image and compare true labels with predicted labels\n",
    "for filename, true_label, predicted_label in zip(test_filenames, true_labels, predicted_classes):\n",
    "    if true_label != predicted_label:\n",
    "        # Reconstruct the full file path\n",
    "        file_path = os.path.join(test_path, filename)\n",
    "        misclassified_filenames.append(file_path)\n",
    "        misclassified_predicted_labels.append(predicted_label)\n",
    "        misclassified_true_labels.append(true_label)\n",
    "\n",
    "# Print the filenames, predicted class names, true class names, predicted labels, and true labels of misclassified images\n",
    "print(\"Misclassified Images:\")\n",
    "for filename, predicted_label, true_label in zip(misclassified_filenames, misclassified_predicted_labels, misclassified_true_labels):\n",
    "    print(\"Filename:\", filename)\n",
    "    print(\"Predicted Class:\", class_names[int(predicted_label)])\n",
    "    print(\"True Class:\", class_names[int(true_label)])\n",
    "    print()\n"
   ],
   "metadata": {
    "collapsed": false,
    "ExecuteTime": {
     "end_time": "2024-03-23T15:15:53.760082Z",
     "start_time": "2024-03-23T15:15:53.748119Z"
    }
   },
   "id": "481d1ea5536aeb99",
   "execution_count": 35
  },
  {
   "cell_type": "code",
   "outputs": [],
   "source": [],
   "metadata": {
    "collapsed": false
   },
   "id": "5d2aa7ac977987c7"
  },
  {
   "cell_type": "code",
   "outputs": [],
   "source": [
    "from vit_keras import vit, utils, visualize\n",
    "for filename in misclassified_filenames:\n",
    "    # Read the image\n",
    "    image = utils.read(filename, image_size)\n",
    "    \n",
    "    # Get attention map\n",
    "    attention_map = visualize.attention_map(model=model.layers[0], image=image)\n",
    "\n",
    "    # Plot results\n",
    "    fig, (ax1, ax2) = plt.subplots(ncols=2)\n",
    "    ax1.axis('off')\n",
    "    ax2.axis('off')\n",
    "    ax1.set_title('Original')\n",
    "    ax2.set_title('Attention Map')\n",
    "    _ = ax1.imshow(image)\n",
    "    _ = ax2.imshow(attention_map)\n",
    "    \n",
    "    plt.show()  # Show the plot for each image"
   ],
   "metadata": {
    "collapsed": false
   },
   "id": "bb53ad20f9cf5efd",
   "execution_count": null
  },
  {
   "cell_type": "code",
   "outputs": [],
   "source": [],
   "metadata": {
    "collapsed": false
   },
   "id": "9fc74c7138a58910"
  }
 ],
 "metadata": {
  "kernelspec": {
   "display_name": "Python 3",
   "language": "python",
   "name": "python3"
  },
  "language_info": {
   "codemirror_mode": {
    "name": "ipython",
    "version": 2
   },
   "file_extension": ".py",
   "mimetype": "text/x-python",
   "name": "python",
   "nbconvert_exporter": "python",
   "pygments_lexer": "ipython2",
   "version": "2.7.6"
  }
 },
 "nbformat": 4,
 "nbformat_minor": 5
}
